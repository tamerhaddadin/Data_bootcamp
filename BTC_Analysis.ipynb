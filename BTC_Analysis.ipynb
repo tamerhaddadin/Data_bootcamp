{
 "cells": [
  {
   "cell_type": "markdown",
   "metadata": {},
   "source": [
    "## Trying to produce the BTC price Chart + Do some Analysis on the Price "
   ]
  },
  {
   "cell_type": "code",
   "execution_count": 93,
   "metadata": {},
   "outputs": [],
   "source": [
    "import pandas as pd\n",
    "import numpy as np \n",
    "import seaborn as sns\n",
    "import matplotlib.pyplot as plt\n",
    "%matplotlib inline "
   ]
  },
  {
   "cell_type": "markdown",
   "metadata": {},
   "source": [
    "#### Importing data on bitcoin price ###"
   ]
  },
  {
   "cell_type": "code",
   "execution_count": 99,
   "metadata": {},
   "outputs": [],
   "source": [
    "### Importing necessaty libraries to import bitcoin (BTC) price data\n",
    "import os\n",
    "from datetime import datetime\n",
    "import pandas_datareader.data as web"
   ]
  },
  {
   "cell_type": "code",
   "execution_count": 103,
   "metadata": {},
   "outputs": [],
   "source": [
    "btc = pdr.get_data_yahoo(['BTC-USD'], \n",
    "                          start=datetime(2018, 1, 1), \n",
    "                          end=datetime(2021, 4, 2))\n",
    "eth = pdr.get_data_yahoo(['ETH-USD'], \n",
    "                          start=datetime(2018, 1, 1), \n",
    "                          end=datetime(2021, 4, 2))\n"
   ]
  },
  {
   "cell_type": "code",
   "execution_count": 104,
   "metadata": {},
   "outputs": [
    {
     "data": {
      "text/html": [
       "<div>\n",
       "<style scoped>\n",
       "    .dataframe tbody tr th:only-of-type {\n",
       "        vertical-align: middle;\n",
       "    }\n",
       "\n",
       "    .dataframe tbody tr th {\n",
       "        vertical-align: top;\n",
       "    }\n",
       "\n",
       "    .dataframe thead tr th {\n",
       "        text-align: left;\n",
       "    }\n",
       "\n",
       "    .dataframe thead tr:last-of-type th {\n",
       "        text-align: right;\n",
       "    }\n",
       "</style>\n",
       "<table border=\"1\" class=\"dataframe\">\n",
       "  <thead>\n",
       "    <tr>\n",
       "      <th>Attributes</th>\n",
       "      <th>Adj Close</th>\n",
       "      <th>Close</th>\n",
       "      <th>High</th>\n",
       "      <th>Low</th>\n",
       "      <th>Open</th>\n",
       "      <th>Volume</th>\n",
       "    </tr>\n",
       "    <tr>\n",
       "      <th>Symbols</th>\n",
       "      <th>BTC-USD</th>\n",
       "      <th>BTC-USD</th>\n",
       "      <th>BTC-USD</th>\n",
       "      <th>BTC-USD</th>\n",
       "      <th>BTC-USD</th>\n",
       "      <th>BTC-USD</th>\n",
       "    </tr>\n",
       "    <tr>\n",
       "      <th>Date</th>\n",
       "      <th></th>\n",
       "      <th></th>\n",
       "      <th></th>\n",
       "      <th></th>\n",
       "      <th></th>\n",
       "      <th></th>\n",
       "    </tr>\n",
       "  </thead>\n",
       "  <tbody>\n",
       "    <tr>\n",
       "      <th>2018-01-01</th>\n",
       "      <td>13657.200195</td>\n",
       "      <td>13657.200195</td>\n",
       "      <td>14112.200195</td>\n",
       "      <td>13154.700195</td>\n",
       "      <td>14112.200195</td>\n",
       "      <td>1.029120e+10</td>\n",
       "    </tr>\n",
       "    <tr>\n",
       "      <th>2018-01-02</th>\n",
       "      <td>14982.099609</td>\n",
       "      <td>14982.099609</td>\n",
       "      <td>15444.599609</td>\n",
       "      <td>13163.599609</td>\n",
       "      <td>13625.000000</td>\n",
       "      <td>1.684660e+10</td>\n",
       "    </tr>\n",
       "    <tr>\n",
       "      <th>2018-01-03</th>\n",
       "      <td>15201.000000</td>\n",
       "      <td>15201.000000</td>\n",
       "      <td>15572.799805</td>\n",
       "      <td>14844.500000</td>\n",
       "      <td>14978.200195</td>\n",
       "      <td>1.687190e+10</td>\n",
       "    </tr>\n",
       "    <tr>\n",
       "      <th>2018-01-04</th>\n",
       "      <td>15599.200195</td>\n",
       "      <td>15599.200195</td>\n",
       "      <td>15739.700195</td>\n",
       "      <td>14522.200195</td>\n",
       "      <td>15270.700195</td>\n",
       "      <td>2.178320e+10</td>\n",
       "    </tr>\n",
       "    <tr>\n",
       "      <th>2018-01-05</th>\n",
       "      <td>17429.500000</td>\n",
       "      <td>17429.500000</td>\n",
       "      <td>17705.199219</td>\n",
       "      <td>15202.799805</td>\n",
       "      <td>15477.200195</td>\n",
       "      <td>2.384090e+10</td>\n",
       "    </tr>\n",
       "    <tr>\n",
       "      <th>...</th>\n",
       "      <td>...</td>\n",
       "      <td>...</td>\n",
       "      <td>...</td>\n",
       "      <td>...</td>\n",
       "      <td>...</td>\n",
       "      <td>...</td>\n",
       "    </tr>\n",
       "    <tr>\n",
       "      <th>2021-03-29</th>\n",
       "      <td>58917.691406</td>\n",
       "      <td>58917.691406</td>\n",
       "      <td>59447.222656</td>\n",
       "      <td>57251.550781</td>\n",
       "      <td>57750.132812</td>\n",
       "      <td>5.441412e+10</td>\n",
       "    </tr>\n",
       "    <tr>\n",
       "      <th>2021-03-30</th>\n",
       "      <td>58918.832031</td>\n",
       "      <td>58918.832031</td>\n",
       "      <td>59930.027344</td>\n",
       "      <td>57726.417969</td>\n",
       "      <td>58930.277344</td>\n",
       "      <td>6.552083e+10</td>\n",
       "    </tr>\n",
       "    <tr>\n",
       "      <th>2021-03-31</th>\n",
       "      <td>59095.808594</td>\n",
       "      <td>59095.808594</td>\n",
       "      <td>59586.070312</td>\n",
       "      <td>58505.277344</td>\n",
       "      <td>58926.562500</td>\n",
       "      <td>6.166916e+10</td>\n",
       "    </tr>\n",
       "    <tr>\n",
       "      <th>2021-04-01</th>\n",
       "      <td>59384.312500</td>\n",
       "      <td>59384.312500</td>\n",
       "      <td>60267.187500</td>\n",
       "      <td>58869.281250</td>\n",
       "      <td>59098.878906</td>\n",
       "      <td>5.872786e+10</td>\n",
       "    </tr>\n",
       "    <tr>\n",
       "      <th>2021-04-02</th>\n",
       "      <td>57603.890625</td>\n",
       "      <td>57603.890625</td>\n",
       "      <td>60110.269531</td>\n",
       "      <td>57603.890625</td>\n",
       "      <td>59397.410156</td>\n",
       "      <td>5.964134e+10</td>\n",
       "    </tr>\n",
       "  </tbody>\n",
       "</table>\n",
       "<p>1185 rows × 6 columns</p>\n",
       "</div>"
      ],
      "text/plain": [
       "Attributes     Adj Close         Close          High           Low  \\\n",
       "Symbols          BTC-USD       BTC-USD       BTC-USD       BTC-USD   \n",
       "Date                                                                 \n",
       "2018-01-01  13657.200195  13657.200195  14112.200195  13154.700195   \n",
       "2018-01-02  14982.099609  14982.099609  15444.599609  13163.599609   \n",
       "2018-01-03  15201.000000  15201.000000  15572.799805  14844.500000   \n",
       "2018-01-04  15599.200195  15599.200195  15739.700195  14522.200195   \n",
       "2018-01-05  17429.500000  17429.500000  17705.199219  15202.799805   \n",
       "...                  ...           ...           ...           ...   \n",
       "2021-03-29  58917.691406  58917.691406  59447.222656  57251.550781   \n",
       "2021-03-30  58918.832031  58918.832031  59930.027344  57726.417969   \n",
       "2021-03-31  59095.808594  59095.808594  59586.070312  58505.277344   \n",
       "2021-04-01  59384.312500  59384.312500  60267.187500  58869.281250   \n",
       "2021-04-02  57603.890625  57603.890625  60110.269531  57603.890625   \n",
       "\n",
       "Attributes          Open        Volume  \n",
       "Symbols          BTC-USD       BTC-USD  \n",
       "Date                                    \n",
       "2018-01-01  14112.200195  1.029120e+10  \n",
       "2018-01-02  13625.000000  1.684660e+10  \n",
       "2018-01-03  14978.200195  1.687190e+10  \n",
       "2018-01-04  15270.700195  2.178320e+10  \n",
       "2018-01-05  15477.200195  2.384090e+10  \n",
       "...                  ...           ...  \n",
       "2021-03-29  57750.132812  5.441412e+10  \n",
       "2021-03-30  58930.277344  6.552083e+10  \n",
       "2021-03-31  58926.562500  6.166916e+10  \n",
       "2021-04-01  59098.878906  5.872786e+10  \n",
       "2021-04-02  59397.410156  5.964134e+10  \n",
       "\n",
       "[1185 rows x 6 columns]"
      ]
     },
     "execution_count": 104,
     "metadata": {},
     "output_type": "execute_result"
    }
   ],
   "source": [
    "btc"
   ]
  },
  {
   "cell_type": "code",
   "execution_count": 105,
   "metadata": {},
   "outputs": [
    {
     "data": {
      "text/html": [
       "<div>\n",
       "<style scoped>\n",
       "    .dataframe tbody tr th:only-of-type {\n",
       "        vertical-align: middle;\n",
       "    }\n",
       "\n",
       "    .dataframe tbody tr th {\n",
       "        vertical-align: top;\n",
       "    }\n",
       "\n",
       "    .dataframe thead tr th {\n",
       "        text-align: left;\n",
       "    }\n",
       "\n",
       "    .dataframe thead tr:last-of-type th {\n",
       "        text-align: right;\n",
       "    }\n",
       "</style>\n",
       "<table border=\"1\" class=\"dataframe\">\n",
       "  <thead>\n",
       "    <tr>\n",
       "      <th>Attributes</th>\n",
       "      <th>Adj Close</th>\n",
       "      <th>Close</th>\n",
       "      <th>High</th>\n",
       "      <th>Low</th>\n",
       "      <th>Open</th>\n",
       "      <th>Volume</th>\n",
       "    </tr>\n",
       "    <tr>\n",
       "      <th>Symbols</th>\n",
       "      <th>ETH-USD</th>\n",
       "      <th>ETH-USD</th>\n",
       "      <th>ETH-USD</th>\n",
       "      <th>ETH-USD</th>\n",
       "      <th>ETH-USD</th>\n",
       "      <th>ETH-USD</th>\n",
       "    </tr>\n",
       "    <tr>\n",
       "      <th>Date</th>\n",
       "      <th></th>\n",
       "      <th></th>\n",
       "      <th></th>\n",
       "      <th></th>\n",
       "      <th></th>\n",
       "      <th></th>\n",
       "    </tr>\n",
       "  </thead>\n",
       "  <tbody>\n",
       "    <tr>\n",
       "      <th>2018-01-01</th>\n",
       "      <td>772.640991</td>\n",
       "      <td>772.640991</td>\n",
       "      <td>782.530029</td>\n",
       "      <td>742.004028</td>\n",
       "      <td>755.757019</td>\n",
       "      <td>2.595760e+09</td>\n",
       "    </tr>\n",
       "    <tr>\n",
       "      <th>2018-01-02</th>\n",
       "      <td>884.443970</td>\n",
       "      <td>884.443970</td>\n",
       "      <td>914.830017</td>\n",
       "      <td>772.346008</td>\n",
       "      <td>772.346008</td>\n",
       "      <td>5.783350e+09</td>\n",
       "    </tr>\n",
       "    <tr>\n",
       "      <th>2018-01-03</th>\n",
       "      <td>962.719971</td>\n",
       "      <td>962.719971</td>\n",
       "      <td>974.471008</td>\n",
       "      <td>868.450989</td>\n",
       "      <td>886.000000</td>\n",
       "      <td>5.093160e+09</td>\n",
       "    </tr>\n",
       "    <tr>\n",
       "      <th>2018-01-04</th>\n",
       "      <td>980.921997</td>\n",
       "      <td>980.921997</td>\n",
       "      <td>1045.079956</td>\n",
       "      <td>946.085999</td>\n",
       "      <td>961.713013</td>\n",
       "      <td>6.502860e+09</td>\n",
       "    </tr>\n",
       "    <tr>\n",
       "      <th>2018-01-05</th>\n",
       "      <td>997.719971</td>\n",
       "      <td>997.719971</td>\n",
       "      <td>1075.390015</td>\n",
       "      <td>956.325012</td>\n",
       "      <td>975.750000</td>\n",
       "      <td>6.683150e+09</td>\n",
       "    </tr>\n",
       "    <tr>\n",
       "      <th>...</th>\n",
       "      <td>...</td>\n",
       "      <td>...</td>\n",
       "      <td>...</td>\n",
       "      <td>...</td>\n",
       "      <td>...</td>\n",
       "      <td>...</td>\n",
       "    </tr>\n",
       "    <tr>\n",
       "      <th>2021-03-29</th>\n",
       "      <td>1846.033691</td>\n",
       "      <td>1846.033691</td>\n",
       "      <td>1860.974731</td>\n",
       "      <td>1793.922363</td>\n",
       "      <td>1819.466309</td>\n",
       "      <td>2.251278e+10</td>\n",
       "    </tr>\n",
       "    <tr>\n",
       "      <th>2021-03-30</th>\n",
       "      <td>1918.362061</td>\n",
       "      <td>1918.362061</td>\n",
       "      <td>1947.837769</td>\n",
       "      <td>1793.002197</td>\n",
       "      <td>1846.098267</td>\n",
       "      <td>3.022690e+10</td>\n",
       "    </tr>\n",
       "    <tr>\n",
       "      <th>2021-03-31</th>\n",
       "      <td>1977.276855</td>\n",
       "      <td>1977.276855</td>\n",
       "      <td>1989.055054</td>\n",
       "      <td>1912.178467</td>\n",
       "      <td>1919.157227</td>\n",
       "      <td>3.091426e+10</td>\n",
       "    </tr>\n",
       "    <tr>\n",
       "      <th>2021-04-01</th>\n",
       "      <td>2143.225586</td>\n",
       "      <td>2143.225586</td>\n",
       "      <td>2152.451904</td>\n",
       "      <td>1960.678711</td>\n",
       "      <td>1976.932739</td>\n",
       "      <td>3.486251e+10</td>\n",
       "    </tr>\n",
       "    <tr>\n",
       "      <th>2021-04-02</th>\n",
       "      <td>2028.422485</td>\n",
       "      <td>2028.422485</td>\n",
       "      <td>2144.962402</td>\n",
       "      <td>2028.422485</td>\n",
       "      <td>2142.895996</td>\n",
       "      <td>3.201152e+10</td>\n",
       "    </tr>\n",
       "  </tbody>\n",
       "</table>\n",
       "<p>1185 rows × 6 columns</p>\n",
       "</div>"
      ],
      "text/plain": [
       "Attributes    Adj Close        Close         High          Low         Open  \\\n",
       "Symbols         ETH-USD      ETH-USD      ETH-USD      ETH-USD      ETH-USD   \n",
       "Date                                                                          \n",
       "2018-01-01   772.640991   772.640991   782.530029   742.004028   755.757019   \n",
       "2018-01-02   884.443970   884.443970   914.830017   772.346008   772.346008   \n",
       "2018-01-03   962.719971   962.719971   974.471008   868.450989   886.000000   \n",
       "2018-01-04   980.921997   980.921997  1045.079956   946.085999   961.713013   \n",
       "2018-01-05   997.719971   997.719971  1075.390015   956.325012   975.750000   \n",
       "...                 ...          ...          ...          ...          ...   \n",
       "2021-03-29  1846.033691  1846.033691  1860.974731  1793.922363  1819.466309   \n",
       "2021-03-30  1918.362061  1918.362061  1947.837769  1793.002197  1846.098267   \n",
       "2021-03-31  1977.276855  1977.276855  1989.055054  1912.178467  1919.157227   \n",
       "2021-04-01  2143.225586  2143.225586  2152.451904  1960.678711  1976.932739   \n",
       "2021-04-02  2028.422485  2028.422485  2144.962402  2028.422485  2142.895996   \n",
       "\n",
       "Attributes        Volume  \n",
       "Symbols          ETH-USD  \n",
       "Date                      \n",
       "2018-01-01  2.595760e+09  \n",
       "2018-01-02  5.783350e+09  \n",
       "2018-01-03  5.093160e+09  \n",
       "2018-01-04  6.502860e+09  \n",
       "2018-01-05  6.683150e+09  \n",
       "...                  ...  \n",
       "2021-03-29  2.251278e+10  \n",
       "2021-03-30  3.022690e+10  \n",
       "2021-03-31  3.091426e+10  \n",
       "2021-04-01  3.486251e+10  \n",
       "2021-04-02  3.201152e+10  \n",
       "\n",
       "[1185 rows x 6 columns]"
      ]
     },
     "execution_count": 105,
     "metadata": {},
     "output_type": "execute_result"
    }
   ],
   "source": [
    "eth"
   ]
  },
  {
   "cell_type": "code",
   "execution_count": 29,
   "metadata": {},
   "outputs": [
    {
     "name": "stdout",
     "output_type": "stream",
     "text": [
      "<class 'pandas.core.frame.DataFrame'>\n",
      "DatetimeIndex: 1185 entries, 2018-01-01 to 2021-04-02\n",
      "Data columns (total 6 columns):\n",
      " #   Column                Non-Null Count  Dtype  \n",
      "---  ------                --------------  -----  \n",
      " 0   (Adj Close, BTC-USD)  1185 non-null   float64\n",
      " 1   (Close, BTC-USD)      1185 non-null   float64\n",
      " 2   (High, BTC-USD)       1185 non-null   float64\n",
      " 3   (Low, BTC-USD)        1185 non-null   float64\n",
      " 4   (Open, BTC-USD)       1185 non-null   float64\n",
      " 5   (Volume, BTC-USD)     1185 non-null   float64\n",
      "dtypes: float64(6)\n",
      "memory usage: 64.8 KB\n"
     ]
    }
   ],
   "source": [
    "btc.info()"
   ]
  },
  {
   "cell_type": "code",
   "execution_count": 106,
   "metadata": {},
   "outputs": [
    {
     "data": {
      "text/plain": [
       "(array([17532., 17652., 17775., 17897., 18017., 18140., 18262., 18383.,\n",
       "        18506., 18628., 18748.]),\n",
       " [Text(17532.0, 0, '2018-01'),\n",
       "  Text(17652.0, 0, '2018-05'),\n",
       "  Text(17775.0, 0, '2018-09'),\n",
       "  Text(17897.0, 0, '2019-01'),\n",
       "  Text(18017.0, 0, '2019-05'),\n",
       "  Text(18140.0, 0, '2019-09'),\n",
       "  Text(18262.0, 0, '2020-01'),\n",
       "  Text(18383.0, 0, '2020-05'),\n",
       "  Text(18506.0, 0, '2020-09'),\n",
       "  Text(18628.0, 0, '2021-01'),\n",
       "  Text(18748.0, 0, '2021-05')])"
      ]
     },
     "execution_count": 106,
     "metadata": {},
     "output_type": "execute_result"
    },
    {
     "data": {
      "image/png": "[encoded data removed]",
      "text/plain": [
       "<Figure size 432x288 with 1 Axes>"
      ]
     },
     "metadata": {
      "needs_background": "light"
     },
     "output_type": "display_data"
    }
   ],
   "source": [
    "plt.plot(btc['Close'])\n",
    "plt.tight_layout()\n",
    "plt.xticks(rotation=70)"
   ]
  },
  {
   "cell_type": "code",
   "execution_count": 120,
   "metadata": {},
   "outputs": [
    {
     "data": {
      "text/plain": [
       "<matplotlib.legend.Legend at 0x20918281d00>"
      ]
     },
     "execution_count": 120,
     "metadata": {},
     "output_type": "execute_result"
    },
    {
     "data": {
      "image/png": "[encoded data removed]",
      "text/plain": [
       "<Figure size 864x576 with 1 Axes>"
      ]
     },
     "metadata": {
      "needs_background": "light"
     },
     "output_type": "display_data"
    }
   ],
   "source": [
    "# ### Covid BTC and ETH Bull###\n",
    "fig = plt.figure(figsize=(12,8))\n",
    "plt.plot(btc.loc['2020-03-01':'2021-04-24']['Close']/30,label='BTC')\n",
    "plt.plot(eth.loc['2020-03-01':'2021-04-24']['Close'],label='ETH',color='orange')\n",
    "plt.legend()\n",
    "\n",
    "## Notice the coherent movement between the ETh and the BTC curve (when its divided by 30)\n",
    "\n",
    "\n",
    "\n"
   ]
  },
  {
   "cell_type": "code",
   "execution_count": 66,
   "metadata": {},
   "outputs": [
    {
     "data": {
      "text/plain": [
       "[<matplotlib.lines.Line2D at 0x20914f73f40>]"
      ]
     },
     "execution_count": 66,
     "metadata": {},
     "output_type": "execute_result"
    },
    {
     "data": {
      "image/png": "[encoded data removed]",
      "text/plain": [
       "<Figure size 432x288 with 1 Axes>"
      ]
     },
     "metadata": {
      "needs_background": "light"
     },
     "output_type": "display_data"
    }
   ],
   "source": []
  }
 ],
 "metadata": {
  "kernelspec": {
   "display_name": "Python 3",
   "language": "python",
   "name": "python3"
  },
  "language_info": {
   "codemirror_mode": {
    "name": "ipython",
    "version": 3
   },
   "file_extension": ".py",
   "mimetype": "text/x-python",
   "name": "python",
   "nbconvert_exporter": "python",
   "pygments_lexer": "ipython3",
   "version": "3.8.5"
  }
 },
 "nbformat": 4,
 "nbformat_minor": 4
}
